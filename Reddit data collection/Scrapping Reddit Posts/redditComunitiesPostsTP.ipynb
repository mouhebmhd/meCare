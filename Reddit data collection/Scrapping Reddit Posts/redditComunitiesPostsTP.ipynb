{
 "cells": [
  {
   "cell_type": "markdown",
   "metadata": {},
   "source": [
    "### Extraction of Posts and Comments from Reddit\n",
    "\n",
    "In this project, we focus on extracting posts and comments from Reddit using web scraping techniques and interaction with the API. Reddit is a platform rich in user-generated content on various topics, making it a valuable resource for applications such as sentiment analysis, trend tracking, and topic modeling.\n",
    "\n",
    "#### Objectives\n",
    "- **Data Collection**: Retrieve posts and comments from specific subreddits based on thematic criteria (e.g., r/mentalhealth, r/fitness).\n",
    "- **Data Processing**: Clean and preprocess the extracted data to prepare it for analysis.\n",
    "- **Data Storage**: Store the collected data in a structured format, such as a CSV file or database, for later analysis.\n",
    "\n",
    "#### Tools and Technologies\n",
    "- **Python**: The primary programming language for web scraping and interacting with the API.\n",
    "- **Requests**: A library for making HTTP requests, in case additional scraping is required.\n",
    "- **Pandas**: A data manipulation library for handling and analyzing the extracted data.\n",
    "\n",
    "#### Getting Started\n",
    "1. **Set Up the Environment**: Install necessary libraries using pip (`praw`, `requests`, `pandas`).\n",
    "2. **Obtain API Credentials**: Create a Reddit account and register an application to get API credentials (client ID, secret, and user agent).\n",
    "3. **Define the Extraction Logic**: Write functions to extract data from specific subreddits or threads based on keywords or categories.\n",
    "4. **Run the Scraper**: Launch the script and monitor the data collection process.\n",
    "5. **Analyze the Data**: Use Pandas to analyze the collected posts and comments for insights.\n",
    "\n",
    "#### Conclusion\n",
    "This project provides a hands-on introduction to using Reddit's API and analyzing data with Python, while also allowing manipulation of data from a dynamic online community.\n"
   ]
  },
  {
   "cell_type": "markdown",
   "metadata": {},
   "source": [
    "<p style=\"color:#FBCE60;text-align:center;font-size:30px\"> Scraping Reddit's  Posts And Articles </p>"
   ]
  },
  {
   "cell_type": "code",
   "execution_count": null,
   "metadata": {},
   "outputs": [
    {
     "name": "stdout",
     "output_type": "stream",
     "text": [
      "Requirement already satisfied: bs4 in c:\\python310\\lib\\site-packages (0.0.2)\n",
      "Requirement already satisfied: beautifulsoup4 in c:\\python310\\lib\\site-packages (from bs4) (4.9.1)\n",
      "Requirement already satisfied: soupsieve>1.2 in c:\\python310\\lib\\site-packages (from beautifulsoup4->bs4) (2.5)\n"
     ]
    },
    {
     "name": "stderr",
     "output_type": "stream",
     "text": [
      "WARNING: Ignoring invalid distribution -ip (c:\\python310\\lib\\site-packages)\n",
      "WARNING: Ignoring invalid distribution -ip (c:\\python310\\lib\\site-packages)\n",
      "\n",
      "[notice] A new release of pip is available: 24.0 -> 24.3.1\n",
      "[notice] To update, run: python.exe -m pip install --upgrade pip\n"
     ]
    },
    {
     "name": "stdout",
     "output_type": "stream",
     "text": [
      "Requirement already satisfied: selenium in c:\\python310\\lib\\site-packages (4.25.0)"
     ]
    },
    {
     "name": "stderr",
     "output_type": "stream",
     "text": [
      "WARNING: Ignoring invalid distribution -ip (c:\\python310\\lib\\site-packages)\n",
      "WARNING: Ignoring invalid distribution -ip (c:\\python310\\lib\\site-packages)\n",
      "\n",
      "[notice] A new release of pip is available: 24.0 -> 24.3.1\n",
      "[notice] To update, run: python.exe -m pip install --upgrade pip\n"
     ]
    },
    {
     "name": "stdout",
     "output_type": "stream",
     "text": [
      "\n",
      "Requirement already satisfied: urllib3<3,>=1.26 in c:\\python310\\lib\\site-packages (from urllib3[socks]<3,>=1.26->selenium) (2.1.0)\n",
      "Requirement already satisfied: trio~=0.17 in c:\\python310\\lib\\site-packages (from selenium) (0.26.2)\n",
      "Requirement already satisfied: trio-websocket~=0.9 in c:\\python310\\lib\\site-packages (from selenium) (0.11.1)\n",
      "Requirement already satisfied: certifi>=2021.10.8 in c:\\python310\\lib\\site-packages (from selenium) (2023.11.17)\n",
      "Requirement already satisfied: typing_extensions~=4.9 in c:\\python310\\lib\\site-packages (from selenium) (4.12.2)\n",
      "Requirement already satisfied: websocket-client~=1.8 in c:\\python310\\lib\\site-packages (from selenium) (1.8.0)\n",
      "Requirement already satisfied: attrs>=23.2.0 in c:\\python310\\lib\\site-packages (from trio~=0.17->selenium) (23.2.0)\n",
      "Requirement already satisfied: sortedcontainers in c:\\python310\\lib\\site-packages (from trio~=0.17->selenium) (2.4.0)\n",
      "Requirement already satisfied: idna in c:\\python310\\lib\\site-packages (from trio~=0.17->selenium) (2.10)\n",
      "Requirement already satisfied: outcome in c:\\python310\\lib\\site-packages (from trio~=0.17->selenium) (1.3.0.post0)\n",
      "Requirement already satisfied: sniffio>=1.3.0 in c:\\python310\\lib\\site-packages (from trio~=0.17->selenium) (1.3.1)\n",
      "Requirement already satisfied: cffi>=1.14 in c:\\python310\\lib\\site-packages (from trio~=0.17->selenium) (1.17.1)\n",
      "Requirement already satisfied: exceptiongroup in c:\\users\\infokom\\appdata\\roaming\\python\\python310\\site-packages (from trio~=0.17->selenium) (1.1.3)\n",
      "Requirement already satisfied: wsproto>=0.14 in c:\\python310\\lib\\site-packages (from trio-websocket~=0.9->selenium) (1.2.0)\n",
      "Requirement already satisfied: pysocks!=1.5.7,<2.0,>=1.5.6 in c:\\python310\\lib\\site-packages (from urllib3[socks]<3,>=1.26->selenium) (1.7.1)\n",
      "Requirement already satisfied: pycparser in c:\\python310\\lib\\site-packages (from cffi>=1.14->trio~=0.17->selenium) (2.22)\n",
      "Requirement already satisfied: h11<1,>=0.9.0 in c:\\python310\\lib\\site-packages (from wsproto>=0.14->trio-websocket~=0.9->selenium) (0.14.0)\n"
     ]
    }
   ],
   "source": [
    "# Installing BeautifulSoup4, a Python library used for web scraping purposes \n",
    "# to extract data from HTML and XML files.\n",
    "!pip install bs4  \n",
    "\n",
    "# Installing Selenium, a tool used for automating web browsers, often used for tasks \n",
    "# like automated testing, web scraping, and web interactions.\n",
    "!pip install selenium\n"
   ]
  },
  {
   "cell_type": "markdown",
   "metadata": {},
   "source": [
    "### Scraping Reddit's Health related Topics"
   ]
  },
  {
   "cell_type": "code",
   "execution_count": 2,
   "metadata": {},
   "outputs": [],
   "source": [
    "# Importation des bibliothèques nécessaires pour le scraping web, \n",
    "# l'automatisation de navigateur et le traitement de données.\n",
    "import urllib.request  # Pour gérer les requêtes URL\n",
    "from selenium import webdriver  # Pour l'automatisation du navigateur\n",
    "from selenium.webdriver.common.by import By  # Pour spécifier les stratégies de localisation d'éléments\n",
    "from selenium.webdriver.chrome.service import Service  # Pour configurer le service ChromeDriver\n",
    "from selenium.webdriver.chrome.options import Options  # Pour définir des options pour Chrome\n",
    "from selenium.webdriver.support.ui import WebDriverWait  # Pour gérer les attentes dans Selenium\n",
    "from bs4 import BeautifulSoup  # Pour analyser les documents HTML et XML\n",
    "import time  # Pour gérer les délais et les horodatages\n",
    "from datetime import datetime, timezone  # Pour gérer le temps et les horodatages\n",
    "from urllib.request import urlopen, Request  # Pour effectuer des requêtes HTTP\n",
    "import pandas as pd  # Pour la manipulation et le stockage des données\n",
    "\n",
    "# Horodatage actuel\n",
    "now = datetime.now(timezone.utc)  # Capture l'heure actuelle en UTC\n",
    "posts = []  # Liste pour stocker les données collectées sur les posts\n",
    "\n",
    "# Fonction pour sauvegarder périodiquement les données collectées dans un fichier CSV\n",
    "def periodicSave(data):\n",
    "    data = pd.DataFrame(data)  # Convertit les données en DataFrame\n",
    "    data.to_csv(\"./redditPosts.csv\")  # Sauvegarde sous forme de fichier CSV\n",
    "    print(\"Sauvegarde périodique effectuée, Total des posts sauvegardés :\", len(data))  # Log de confirmation\n",
    "\n",
    "# Fonction pour collecter des posts des subreddits liés à la santé\n",
    "def collectSubRedditsPosts(url):\n",
    "    time.sleep(5)  # Pause de 5 secondes pour éviter de surcharger le serveur\n",
    "    headers = {'User-Agent': 'Mozilla/5.0 (Windows NT 10.0; Win64; x64) AppleWebKit/537.36 (KHTML, like Gecko) Chrome/112.0.5615.137 Safari/537.36'}\n",
    "    request = Request(url, headers=headers)  # Création de la requête HTTP avec un User-Agent\n",
    "    \n",
    "    # Ouvre l'URL et lit le contenu de la page\n",
    "    with urlopen(request) as response:\n",
    "        page_source = response.read()  # Lecture du contenu de la page\n",
    "    print(f\"Navigation vers {url}\")  # Log de navigation\n",
    "\n",
    "    # Analyse de la source de la page avec BeautifulSoup\n",
    "    soup = BeautifulSoup(page_source, 'html.parser')\n",
    "\n",
    "    # Recherche et traitement des posts\n",
    "    posts_elements = soup.find_all(\"div\", class_=\"thing\")  # Trouve tous les posts\n",
    "    for post_element in posts_elements:\n",
    "        try:\n",
    "            post = {  # Récupération des détails de chaque post\n",
    "                \"authorName\": post_element.get(\"data-author\"),  # Nom de l'auteur\n",
    "                \"authorId\": post_element.get(\"data-author-fullname\"),  # ID de l'auteur\n",
    "                \"commentCount\": post_element.get(\"data-comments-count\"),  # Nombre de commentaires\n",
    "                \"commentsLink\": post_element.get(\"data-url\"),  # Lien vers les commentaires\n",
    "                \"createdAt\": post_element.get(\"data-timestamp\"),  # Horodatage du post\n",
    "                \"postId\": post_element.get(\"id\"),  # ID du post\n",
    "                \"postTitle\": post_element.find(\"a\", class_=\"title may-blank\").get_text(),  # Titre du post\n",
    "                \"subredditName\": post_element.get(\"data-subreddit-prefixed\"),  # Nom du subreddit\n",
    "                \"collectedAt\": now.strftime(\"%Y-%m-%dT%H:%M:%S.\") + str(now.microsecond).ljust(6, '0') + \"+0000\",  # Horodatage de la collecte\n",
    "                \"interactionCategory\": post_element.find(\"span\", class_=\"flairrichtext\").get_text(\"title\")\n",
    "                if post_element.find(\"span\", class_=\"flairrichtext\") else \"N/A\",  # Catégorie d'interaction\n",
    "            }\n",
    "            print(post)  # Affiche le post collecté\n",
    "            posts.append(post)  # Ajoute le post à la liste\n",
    "            if len(posts) % 500 == 0:  # Sauvegarde périodique tous les 500 posts\n",
    "                periodicSave(posts)\n",
    "        except:\n",
    "            continue  # Ignore les erreurs et passe au post suivant\n",
    "    try:\n",
    "        nextButton = soup.find(\"span\", class_=\"next-button\").find(\"a\").get(\"href\")  # Recherche du bouton \"Suivant\"\n",
    "        if nextButton:\n",
    "            collectSubRedditsPosts(nextButton)  # Navigation vers la page suivante\n",
    "    except:\n",
    "        print(\"Aucun bouton 'Suivant' trouvé\")  # Log si aucune page suivante\n",
    "        return posts  # Retourne les posts collectés\n"
   ]
  },
  {
   "cell_type": "code",
   "execution_count": 10,
   "metadata": {},
   "outputs": [],
   "source": [
    "# Importation de pandas pour manipuler les données et time pour gérer les délais\n",
    "import pandas as pd\n",
    "import time\n",
    "\n",
    "# Chargement du fichier CSV contenant la liste des communautés Reddit sur la santé\n",
    "topicsList = pd.read_csv(\"./healthRedditCommunities.csv\")  # Chemin vers le fichier CSV\n",
    "\n",
    "def findCommunity(communityName):\n",
    "    # Iterate through the topicsList to find the matching topic\n",
    "    for index in range(len(topicsList)):\n",
    "        \n",
    "        if topicsList.loc[index,\"topicName\"] == communityName:\n",
    "            return topicsList.loc[index]\n",
    "    # If no match is found, return a message\n",
    "    return \"Unable to find. Please choose another one.\"\n"
   ]
  },
  {
   "cell_type": "code",
   "execution_count": 13,
   "metadata": {},
   "outputs": [],
   "source": [
    "def scrapCommunity(communityName):\n",
    "        collectedPosts=[]\n",
    "        topic = findCommunity(communityName) \n",
    "        print(topic)\n",
    "        topicName = topic[\"topicName\"]  # Nom du sujet\n",
    "        baseUrl = topic[\"topicUrl\"]  # URL de base du sujet\n",
    "\n",
    "        # Liste des différentes URLs à explorer pour collecter les posts\n",
    "        extendedUrls = [\n",
    "            baseUrl,\n",
    "            baseUrl + \"/new/\",  # Nouveaux posts\n",
    "            baseUrl + \"/rising/\",  # Posts en hausse\n",
    "            baseUrl + \"/controversial/\",  # Posts controversés\n",
    "            baseUrl + \"/controversial/?sort=controversial&t=all\",  # Controversés (tous)\n",
    "            baseUrl + \"/controversial/?sort=controversial&t=month\",  # Controversés (mois)\n",
    "            baseUrl + \"/controversial/?sort=controversial&t=year\",  # Controversés (année)\n",
    "            baseUrl + \"/controversial/?sort=controversial&t=week\",  # Controversés (semaine)\n",
    "            baseUrl + \"/controversial/?sort=controversial&t=hour\",  # Controversés (heure)\n",
    "            baseUrl + \"/top/\",  # Posts les plus populaires\n",
    "            baseUrl + \"/top/?sort=controversial&t=all\",  # Populaires controversés (tous)\n",
    "            baseUrl + \"/top/?sort=controversial&t=month\",  # Populaires controversés (mois)\n",
    "            baseUrl + \"/top/?sort=controversial&t=year\",  # Populaires controversés (année)\n",
    "            baseUrl + \"/top/?sort=controversial&t=week\",  # Populaires controversés (semaine)\n",
    "            baseUrl + \"/top/?sort=controversial&t=hour\"  # Populaires controversés (heure)\n",
    "        ]\n",
    "\n",
    "        # Parcours de chaque URL étendue pour collecter les posts\n",
    "        for topicUrl in extendedUrls:\n",
    "            # Appel de la fonction `collectSubRedditsPosts` pour chaque URL\n",
    "            posts = collectSubRedditsPosts(topicUrl)\n",
    "            collectedPosts.extend(posts)\n",
    "        return collectedPosts\n",
    "        \n"
   ]
  },
  {
   "cell_type": "code",
   "execution_count": 15,
   "metadata": {},
   "outputs": [
    {
     "name": "stdout",
     "output_type": "stream",
     "text": [
      "topicName                             Anxiety\n",
      "topicUrl     https://old.reddit.com/r/anxiety\n",
      "Name: 3, dtype: object\n",
      "Navigation vers https://old.reddit.com/r/anxiety\n",
      "{'authorName': 'Pi25', 'authorId': 't2_jz8fo', 'commentCount': '7', 'commentsLink': '/r/Anxiety/comments/1gd9nuu/elections_and_politics/', 'createdAt': '1730031476000', 'postId': 'thing_t3_1gd9nuu', 'postTitle': 'Elections and Politics', 'subredditName': 'r/Anxiety', 'collectedAt': '2024-12-02T16:06:25.771722+0000', 'interactionCategory': 'N/A'}\n",
      "{'authorName': 'AutoModerator', 'authorId': 't2_6l4z3', 'commentCount': '5', 'commentsLink': '/r/Anxiety/comments/1gx5a4f/monthly_checkin_thread/', 'createdAt': '1732273235000', 'postId': 'thing_t3_1gx5a4f', 'postTitle': 'Monthly Check-In Thread', 'subredditName': 'r/Anxiety', 'collectedAt': '2024-12-02T16:06:25.771722+0000', 'interactionCategory': 'N/A'}\n",
      "{'authorName': 'Sensitive_Lock8059', 'authorId': 't2_g4yyu0yj', 'commentCount': '17', 'commentsLink': '/r/Anxiety/comments/1h4ufzy/anyone_ruminate_themselves_into_a_full_crisis/', 'createdAt': '1733144502000', 'postId': 'thing_t3_1h4ufzy', 'postTitle': 'Anyone ruminate themselves into a full crisis?', 'subredditName': 'r/Anxiety', 'collectedAt': '2024-12-02T16:06:25.771722+0000', 'interactionCategory': 'N/A'}\n",
      "{'authorName': 'Ok_Positive_8155', 'authorId': 't2_eg0jrltm3', 'commentCount': '44', 'commentsLink': '/r/Anxiety/comments/1h4vu9f/what_phobias_do_you_face/', 'createdAt': '1733148748000', 'postId': 'thing_t3_1h4vu9f', 'postTitle': 'What phobias do you face?', 'subredditName': 'r/Anxiety', 'collectedAt': '2024-12-02T16:06:25.771722+0000', 'interactionCategory': 'N/A'}\n",
      "{'authorName': 'pikipiki1298', 'authorId': 't2_8gjbc01h', 'commentCount': '8', 'commentsLink': '/r/Anxiety/comments/1h4rgki/anyone_else_ever_wish_they_had_a_mute_button_on/', 'createdAt': '1733132847000', 'postId': 'thing_t3_1h4rgki', 'postTitle': 'Anyone else ever wish they had a mute button on their brain to stop all the thoughts?', 'subredditName': 'r/Anxiety', 'collectedAt': '2024-12-02T16:06:25.771722+0000', 'interactionCategory': 'N/A'}\n",
      "{'authorName': 'Ok_Scar_4389', 'authorId': 't2_xvel18ai7', 'commentCount': '23', 'commentsLink': '/r/Anxiety/comments/1h4st4s/anyone_else_deal_with_stomach_problems_from/', 'createdAt': '1733138646000', 'postId': 'thing_t3_1h4st4s', 'postTitle': 'Anyone else deal with stomach problems from anxiety?', 'subredditName': 'r/Anxiety', 'collectedAt': '2024-12-02T16:06:25.771722+0000', 'interactionCategory': 'N/A'}\n",
      "{'authorName': 'Competitive-Ebb-813', 'authorId': 't2_cyvsh1ht', 'commentCount': '0', 'commentsLink': '/r/Anxiety/comments/1h4v27k/health_anxiety_reassurance_to_you/', 'createdAt': '1733146453000', 'postId': 'thing_t3_1h4v27k', 'postTitle': 'Health anxiety reassurance to you', 'subredditName': 'r/Anxiety', 'collectedAt': '2024-12-02T16:06:25.771722+0000', 'interactionCategory': 'N/A'}\n",
      "{'authorName': 'Minding_mind00', 'authorId': 't2_11ba8letzh', 'commentCount': '21', 'commentsLink': '/r/Anxiety/comments/1h4ly9r/anyone_else_randomly_fear_death/', 'createdAt': '1733111052000', 'postId': 'thing_t3_1h4ly9r', 'postTitle': 'Anyone else randomly fear death?', 'subredditName': 'r/Anxiety', 'collectedAt': '2024-12-02T16:06:25.771722+0000', 'interactionCategory': 'N/A'}\n",
      "{'authorName': 'SoreWardr', 'authorId': 't2_kd8mvg4zu', 'commentCount': '1', 'commentsLink': '/r/Anxiety/comments/1h4ugr0/anxiety_often_comes_from_the_environment_we_grew/', 'createdAt': '1733144560000', 'postId': 'thing_t3_1h4ugr0', 'postTitle': 'Anxiety often comes from the environment we grew up in', 'subredditName': 'r/Anxiety', 'collectedAt': '2024-12-02T16:06:25.771722+0000', 'interactionCategory': 'N/A'}\n",
      "{'authorName': 'Available_Heart5556', 'authorId': 't2_14w6swvh29', 'commentCount': '8', 'commentsLink': '/r/Anxiety/comments/1h4tl76/heart_rate_of_120_sitting_down_before_a/', 'createdAt': '1733141576000', 'postId': 'thing_t3_1h4tl76', 'postTitle': 'Heart rate of 120 sitting down before a presentation', 'subredditName': 'r/Anxiety', 'collectedAt': '2024-12-02T16:06:25.771722+0000', 'interactionCategory': 'N/A'}\n",
      "{'authorName': 'brattyaa', 'authorId': 't2_s30najqqo', 'commentCount': '73', 'commentsLink': '/r/Anxiety/comments/1h4gnww/what_gives_you_relief/', 'createdAt': '1733095284000', 'postId': 'thing_t3_1h4gnww', 'postTitle': 'What gives you relief?', 'subredditName': 'r/Anxiety', 'collectedAt': '2024-12-02T16:06:25.771722+0000', 'interactionCategory': 'N/A'}\n",
      "{'authorName': 'Relative_Jeweler_624', 'authorId': 't2_uryap82z', 'commentCount': '9', 'commentsLink': '/r/Anxiety/comments/1h4y4tw/i_have_pneumonia_right_now_and_cant_stop_thinking/', 'createdAt': '1733154909000', 'postId': 'thing_t3_1h4y4tw', 'postTitle': \"I have pneumonia right now and can't stop thinking I'm going to die\", 'subredditName': 'r/Anxiety', 'collectedAt': '2024-12-02T16:06:25.771722+0000', 'interactionCategory': 'N/A'}\n",
      "{'authorName': 'Important_Manner937', 'authorId': 't2_18vcm00ta9', 'commentCount': '4', 'commentsLink': '/r/Anxiety/comments/1h4xrwo/anyone_has_this_random_feeling_of_going_to_die/', 'createdAt': '1733153986000', 'postId': 'thing_t3_1h4xrwo', 'postTitle': 'anyone has this random feeling of going to die soon', 'subredditName': 'r/Anxiety', 'collectedAt': '2024-12-02T16:06:25.771722+0000', 'interactionCategory': 'N/A'}\n",
      "{'authorName': 'Standard_Sector7496', 'authorId': 't2_qa3y1z9k0', 'commentCount': '1', 'commentsLink': '/r/Anxiety/comments/1h4xmd9/prozac_fluoxetine_has_been_a_gamechanger_for_my/', 'createdAt': '1733153579000', 'postId': 'thing_t3_1h4xmd9', 'postTitle': 'Prozac (Fluoxetine) Has Been a Game-Changer for My Anxiety and Panic - A Positive Experience', 'subredditName': 'r/Anxiety', 'collectedAt': '2024-12-02T16:06:25.771722+0000', 'interactionCategory': 'N/A'}\n",
      "{'authorName': 'artcollectivez', 'authorId': 't2_62ytda7p', 'commentCount': '0', 'commentsLink': '/r/Anxiety/comments/1h4v3g9/my_biggest_fear_isnt_that_my_friends_hate_me_its/', 'createdAt': '1733146556000', 'postId': 'thing_t3_1h4v3g9', 'postTitle': 'My biggest fear isn’t that my friends hate me, it’s that they don’t like me enough', 'subredditName': 'r/Anxiety', 'collectedAt': '2024-12-02T16:06:25.771722+0000', 'interactionCategory': 'N/A'}\n",
      "{'authorName': 'Rytgammer', 'authorId': 't2_8chmekns', 'commentCount': '0', 'commentsLink': '/r/Anxiety/comments/1h4wj7w/not_sure_of_i_have_anxiety_or_ocd/', 'createdAt': '1733150712000', 'postId': 'thing_t3_1h4wj7w', 'postTitle': 'Not sure of I have anxiety or OCD', 'subredditName': 'r/Anxiety', 'collectedAt': '2024-12-02T16:06:25.771722+0000', 'interactionCategory': 'N/A'}\n",
      "{'authorName': 'LawfulnessAnxious771', 'authorId': 't2_1bzofwf9zh', 'commentCount': '18', 'commentsLink': '/r/Anxiety/comments/1h4e407/im_tired_of_having_anxiety_disorder/', 'createdAt': '1733088619000', 'postId': 'thing_t3_1h4e407', 'postTitle': 'I’m tired of having anxiety disorder', 'subredditName': 'r/Anxiety', 'collectedAt': '2024-12-02T16:06:25.771722+0000', 'interactionCategory': 'N/A'}\n",
      "{'authorName': 'FalseBodybuilder-21', 'authorId': 't2_ik2bbvc4', 'commentCount': '7', 'commentsLink': '/r/Anxiety/comments/1h4mctf/14yo_boy_worried_that_i_might_of_had_a_heart/', 'createdAt': '1733112358000', 'postId': 'thing_t3_1h4mctf', 'postTitle': \"14yo boy worried that I might of had a heart attack and can't stop thinking about it.\", 'subredditName': 'r/Anxiety', 'collectedAt': '2024-12-02T16:06:25.771722+0000', 'interactionCategory': 'N/A'}\n",
      "{'authorName': 'Some-Commission-9011', 'authorId': 't2_hmr5grx8', 'commentCount': '0', 'commentsLink': '/r/Anxiety/comments/1h4vouj/chest_pain_please_help/', 'createdAt': '1733148309000', 'postId': 'thing_t3_1h4vouj', 'postTitle': 'Chest pain. Please help!', 'subredditName': 'r/Anxiety', 'collectedAt': '2024-12-02T16:06:25.771722+0000', 'interactionCategory': 'N/A'}\n",
      "{'authorName': 'astmusic1234', 'authorId': 't2_tcq1w428c', 'commentCount': '0', 'commentsLink': '/r/Anxiety/comments/1h4t3bl/these_are_my_two_favourite_playlists_on_spotify/', 'createdAt': '1733139746000', 'postId': 'thing_t3_1h4t3bl', 'postTitle': 'These are my two favourite playlists on Spotify that I use to help aid mindfulness and meditation and relax before a restful sleep. Feel free to listen to them yourselves and have a lovely day! Enjoy!', 'subredditName': 'r/Anxiety', 'collectedAt': '2024-12-02T16:06:25.771722+0000', 'interactionCategory': 'N/A'}\n",
      "{'authorName': 'Adorable-Appeal-5829', 'authorId': 't2_vttal7ha8', 'commentCount': '0', 'commentsLink': '/r/Anxiety/comments/1h4v6t6/im_in_constant_battle_with_my_mind/', 'createdAt': '1733146840000', 'postId': 'thing_t3_1h4v6t6', 'postTitle': 'I’m in constant battle with my mind.', 'subredditName': 'r/Anxiety', 'collectedAt': '2024-12-02T16:06:25.771722+0000', 'interactionCategory': 'N/A'}\n",
      "{'authorName': 'Creepy-Hyena3284', 'authorId': 't2_1boqxkas0e', 'commentCount': '1', 'commentsLink': '/r/Anxiety/comments/1h4uxgn/help_with_impending_doom/', 'createdAt': '1733146044000', 'postId': 'thing_t3_1h4uxgn', 'postTitle': 'Help with impending doom', 'subredditName': 'r/Anxiety', 'collectedAt': '2024-12-02T16:06:25.771722+0000', 'interactionCategory': 'N/A'}\n",
      "{'authorName': 'Alternative-Luck4572', 'authorId': 't2_1e1tw72ahq', 'commentCount': '2', 'commentsLink': '/r/Anxiety/comments/1h4sm1p/im_taking_lexapro_5mg_right_now_and_iam_switchin/', 'createdAt': '1733137836000', 'postId': 'thing_t3_1h4sm1p', 'postTitle': 'Im taking lexapro 5mg right now, and iam switchin at 10mg in 2 days, but im really having those side effects like insomnia(didnt slept for 4days in the row, and think like going crazy.. ny psychiatrist is telling me that its normal to feel like this first 2 weeks, have anyone experiended same here?', 'subredditName': 'r/Anxiety', 'collectedAt': '2024-12-02T16:06:25.771722+0000', 'interactionCategory': 'N/A'}\n",
      "{'authorName': 'Loadedtux', 'authorId': 't2_14pptn', 'commentCount': '0', 'commentsLink': '/r/Anxiety/comments/1h4z0dr/needing_encouragement_about_wisdom_teeth/', 'createdAt': '1733157090000', 'postId': 'thing_t3_1h4z0dr', 'postTitle': 'Needing encouragement about wisdom teeth', 'subredditName': 'r/Anxiety', 'collectedAt': '2024-12-02T16:06:25.771722+0000', 'interactionCategory': 'N/A'}\n",
      "{'authorName': 'sneakysnek_1', 'authorId': 't2_w8c45hzr', 'commentCount': '0', 'commentsLink': '/r/Anxiety/comments/1h4ywa1/i_feel_like_im_the_butt_of_a_joke_with_my/', 'createdAt': '1733156813000', 'postId': 'thing_t3_1h4ywa1', 'postTitle': \"I feel like I'm the butt of a joke with my coworkers.\", 'subredditName': 'r/Anxiety', 'collectedAt': '2024-12-02T16:06:25.771722+0000', 'interactionCategory': 'N/A'}\n",
      "{'authorName': 'idkbr0idk', 'authorId': 't2_uwf0mlx4', 'commentCount': '0', 'commentsLink': '/r/Anxiety/comments/1h4ys6n/driving_in_the_snow_is_horrible/', 'createdAt': '1733156532000', 'postId': 'thing_t3_1h4ys6n', 'postTitle': 'Driving in the snow is horrible', 'subredditName': 'r/Anxiety', 'collectedAt': '2024-12-02T16:06:25.771722+0000', 'interactionCategory': 'N/A'}\n",
      "{'authorName': 'lovgoos', 'authorId': 't2_oxpxywf2', 'commentCount': '0', 'commentsLink': '/r/Anxiety/comments/1h4yivk/feeling_hope/', 'createdAt': '1733155886000', 'postId': 'thing_t3_1h4yivk', 'postTitle': 'Feeling hope', 'subredditName': 'r/Anxiety', 'collectedAt': '2024-12-02T16:06:25.771722+0000', 'interactionCategory': 'N/A'}\n",
      "Navigation vers https://old.reddit.com/r/Anxiety/?count=25&after=t3_1h4yivk\n",
      "{'authorName': 'Any_Cry3335', 'authorId': 't2_zo46g4x4i', 'commentCount': '27', 'commentsLink': '/r/Anxiety/comments/1h47wzh/whats_the_point_in_me_existing_if_i_cant_be_a/', 'createdAt': '1733072846000', 'postId': 'thing_t3_1h47wzh', 'postTitle': \"What's the point in me existing if I can't be a normal human\", 'subredditName': 'r/Anxiety', 'collectedAt': '2024-12-02T16:06:25.771722+0000', 'interactionCategory': 'N/A'}\n",
      "{'authorName': 'Historical_Load_1421', 'authorId': 't2_npatm7k4', 'commentCount': '1', 'commentsLink': '/r/Anxiety/comments/1h4yg6y/morning_anxietynausea/', 'createdAt': '1733155696000', 'postId': 'thing_t3_1h4yg6y', 'postTitle': 'morning anxiety/nausea..', 'subredditName': 'r/Anxiety', 'collectedAt': '2024-12-02T16:06:25.771722+0000', 'interactionCategory': 'N/A'}\n",
      "{'authorName': 'Negative_Career', 'authorId': 't2_5o3v05b1', 'commentCount': '0', 'commentsLink': '/r/Anxiety/comments/1h4y7a7/feeling_stressed_about_eyesight/', 'createdAt': '1733155090000', 'postId': 'thing_t3_1h4y7a7', 'postTitle': 'Feeling stressed about eyesight', 'subredditName': 'r/Anxiety', 'collectedAt': '2024-12-02T16:06:25.771722+0000', 'interactionCategory': 'N/A'}\n",
      "{'authorName': 'Coketallica', 'authorId': 't2_ulppr', 'commentCount': '0', 'commentsLink': '/r/Anxiety/comments/1h4y5yr/overcoming_awkwardsexual_anxiety/', 'createdAt': '1733154990000', 'postId': 'thing_t3_1h4y5yr', 'postTitle': 'Overcoming awkward/sexual anxiety', 'subredditName': 'r/Anxiety', 'collectedAt': '2024-12-02T16:06:25.771722+0000', 'interactionCategory': 'N/A'}\n",
      "{'authorName': 'toriria', 'authorId': 't2_r58l610rx', 'commentCount': '3', 'commentsLink': '/r/Anxiety/comments/1h4tes0/anxiety_about_secondhand_smoke/', 'createdAt': '1733140938000', 'postId': 'thing_t3_1h4tes0', 'postTitle': 'Anxiety about secondhand smoke', 'subredditName': 'r/Anxiety', 'collectedAt': '2024-12-02T16:06:25.771722+0000', 'interactionCategory': 'N/A'}\n",
      "{'authorName': 'Traditional-Spot6770', 'authorId': 't2_1amgr2eszk', 'commentCount': '12', 'commentsLink': '/r/Anxiety/comments/1h4obs0/guys_its_tough_a_small_rant/', 'createdAt': '1733119285000', 'postId': 'thing_t3_1h4obs0', 'postTitle': 'Guys its tough !!! (A small rant)', 'subredditName': 'r/Anxiety', 'collectedAt': '2024-12-02T16:06:25.771722+0000', 'interactionCategory': 'N/A'}\n",
      "{'authorName': '_Wanderlust31', 'authorId': 't2_tygev8bo', 'commentCount': '0', 'commentsLink': '/r/Anxiety/comments/1h4xlk1/anxiety_and_overstimulation/', 'createdAt': '1733153521000', 'postId': 'thing_t3_1h4xlk1', 'postTitle': 'Anxiety and overstimulation', 'subredditName': 'r/Anxiety', 'collectedAt': '2024-12-02T16:06:25.771722+0000', 'interactionCategory': 'N/A'}\n",
      "{'authorName': 'lucascon777', 'authorId': 't2_4rd4z9u2', 'commentCount': '0', 'commentsLink': '/r/Anxiety/comments/1h4xgtv/anyone_take_caruso_anxiety_aid/', 'createdAt': '1733153184000', 'postId': 'thing_t3_1h4xgtv', 'postTitle': 'Anyone take Caruso anxiety aid ?', 'subredditName': 'r/Anxiety', 'collectedAt': '2024-12-02T16:06:25.771722+0000', 'interactionCategory': 'N/A'}\n",
      "{'authorName': 'Wondernerd87', 'authorId': 't2_45hkwwqxo', 'commentCount': '0', 'commentsLink': '/r/Anxiety/comments/1h4xg1e/dae/', 'createdAt': '1733153122000', 'postId': 'thing_t3_1h4xg1e', 'postTitle': 'DAE?', 'subredditName': 'r/Anxiety', 'collectedAt': '2024-12-02T16:06:25.771722+0000', 'interactionCategory': 'N/A'}\n",
      "{'authorName': 'levuafrika', 'authorId': 't2_lfd77z2wa', 'commentCount': '1', 'commentsLink': '/r/Anxiety/comments/1h4xer7/swollen_lymph_nodes/', 'createdAt': '1733153035000', 'postId': 'thing_t3_1h4xer7', 'postTitle': 'swollen lymph nodes', 'subredditName': 'r/Anxiety', 'collectedAt': '2024-12-02T16:06:25.771722+0000', 'interactionCategory': 'N/A'}\n",
      "{'authorName': 'TripleSpikes', 'authorId': 't2_gol6ffe1', 'commentCount': '1', 'commentsLink': '/r/Anxiety/comments/1h4xc44/medication_for_mild_anxiety/', 'createdAt': '1733152840000', 'postId': 'thing_t3_1h4xc44', 'postTitle': 'Medication for mild anxiety?', 'subredditName': 'r/Anxiety', 'collectedAt': '2024-12-02T16:06:25.771722+0000', 'interactionCategory': 'N/A'}\n",
      "{'authorName': 'Cylerhusk', 'authorId': 't2_u77zn2ix', 'commentCount': '0', 'commentsLink': '/r/Anxiety/comments/1h4x5zf/anyone_who_only_took_buspirone_for_a_short_time/', 'createdAt': '1733152395000', 'postId': 'thing_t3_1h4x5zf', 'postTitle': 'Anyone who only took buspirone for a short time and experienced withdrawals, how long did it last?', 'subredditName': 'r/Anxiety', 'collectedAt': '2024-12-02T16:06:25.771722+0000', 'interactionCategory': 'N/A'}\n",
      "{'authorName': 'LuckeLB', 'authorId': 't2_mi1d5zvz', 'commentCount': '1', 'commentsLink': '/r/Anxiety/comments/1h4wwwy/anxiety_after_a_positive_experience/', 'createdAt': '1733151740000', 'postId': 'thing_t3_1h4wwwy', 'postTitle': 'Anxiety after a positive experience.', 'subredditName': 'r/Anxiety', 'collectedAt': '2024-12-02T16:06:25.771722+0000', 'interactionCategory': 'N/A'}\n",
      "{'authorName': 'Maleficent_Mirror12', 'authorId': 't2_174iq2ic7g', 'commentCount': '8', 'commentsLink': '/r/Anxiety/comments/1h4oc8d/does_anyone_in_your_family_particularly_cause_you/', 'createdAt': '1733119325000', 'postId': 'thing_t3_1h4oc8d', 'postTitle': 'Does anyone in your family particularly cause you to feel more anxious than you normally do?', 'subredditName': 'r/Anxiety', 'collectedAt': '2024-12-02T16:06:25.771722+0000', 'interactionCategory': 'N/A'}\n",
      "{'authorName': 'OutsideLie4244', 'authorId': 't2_sjo2v6rkx', 'commentCount': '0', 'commentsLink': '/r/Anxiety/comments/1h4wiq3/our_medical_system_sucks_ugh/', 'createdAt': '1733150678000', 'postId': 'thing_t3_1h4wiq3', 'postTitle': 'Our medical system sucks! Ugh', 'subredditName': 'r/Anxiety', 'collectedAt': '2024-12-02T16:06:25.771722+0000', 'interactionCategory': 'N/A'}\n",
      "{'authorName': 'Low_Cantaloupe_1057', 'authorId': 't2_pf9s31h66', 'commentCount': '0', 'commentsLink': '/r/Anxiety/comments/1h4we88/how_do_i_stop_it/', 'createdAt': '1733150332000', 'postId': 'thing_t3_1h4we88', 'postTitle': 'how do i stop it.', 'subredditName': 'r/Anxiety', 'collectedAt': '2024-12-02T16:06:25.771722+0000', 'interactionCategory': 'N/A'}\n",
      "{'authorName': 'zhonata', 'authorId': 't2_ei4dp3f1', 'commentCount': '10', 'commentsLink': '/r/Anxiety/comments/1h4b0va/health_anxiety_kicking_my_ass_again/', 'createdAt': '1733080770000', 'postId': 'thing_t3_1h4b0va', 'postTitle': 'health anxiety kicking my ass again', 'subredditName': 'r/Anxiety', 'collectedAt': '2024-12-02T16:06:25.771722+0000', 'interactionCategory': 'N/A'}\n",
      "{'authorName': 'Downtown-Reveal8028', 'authorId': 't2_tna1qio2z', 'commentCount': '0', 'commentsLink': '/r/Anxiety/comments/1h4w6al/anxiety/', 'createdAt': '1733149710000', 'postId': 'thing_t3_1h4w6al', 'postTitle': 'Anxiety', 'subredditName': 'r/Anxiety', 'collectedAt': '2024-12-02T16:06:25.771722+0000', 'interactionCategory': 'N/A'}\n",
      "{'authorName': 'OutsideLie4244', 'authorId': 't2_sjo2v6rkx', 'commentCount': '0', 'commentsLink': '/r/Anxiety/comments/1h4w0vy/queen_of_paradoxes/', 'createdAt': '1733149284000', 'postId': 'thing_t3_1h4w0vy', 'postTitle': 'Queen of Paradoxes', 'subredditName': 'r/Anxiety', 'collectedAt': '2024-12-02T16:06:25.771722+0000', 'interactionCategory': 'N/A'}\n",
      "{'authorName': 'peuxsych', 'authorId': 't2_1dry4gcsbf', 'commentCount': '7', 'commentsLink': '/r/Anxiety/comments/1h4qcp0/when_im_all_alone_for_a_long_time_i_start_feeling/', 'createdAt': '1733127736000', 'postId': 'thing_t3_1h4qcp0', 'postTitle': \"When I'm all alone for a long time I start feeling like I'm losing my mind\", 'subredditName': 'r/Anxiety', 'collectedAt': '2024-12-02T16:06:25.771722+0000', 'interactionCategory': 'N/A'}\n",
      "{'authorName': 'Delicious-Raise-5931', 'authorId': 't2_v9kaqslyl', 'commentCount': '3', 'commentsLink': '/r/Anxiety/comments/1h4vx4j/comforting_friends/', 'createdAt': '1733148983000', 'postId': 'thing_t3_1h4vx4j', 'postTitle': 'comforting friends', 'subredditName': 'r/Anxiety', 'collectedAt': '2024-12-02T16:06:25.771722+0000', 'interactionCategory': 'N/A'}\n",
      "{'authorName': 'AdEconomy8774', 'authorId': 't2_1e4i0pdtr8', 'commentCount': '0', 'commentsLink': '/r/Anxiety/comments/1h4vk3g/lexapro_6_weeks_in/', 'createdAt': '1733147958000', 'postId': 'thing_t3_1h4vk3g', 'postTitle': 'Lexapro 6 Weeks In…', 'subredditName': 'r/Anxiety', 'collectedAt': '2024-12-02T16:06:25.771722+0000', 'interactionCategory': 'N/A'}\n",
      "{'authorName': 'OkCampaign8881', 'authorId': 't2_18cxj4e0x9', 'commentCount': '0', 'commentsLink': '/r/Anxiety/comments/1h4vgnr/valium_making_me_feel_worse/', 'createdAt': '1733147662000', 'postId': 'thing_t3_1h4vgnr', 'postTitle': 'valium making me feel worse', 'subredditName': 'r/Anxiety', 'collectedAt': '2024-12-02T16:06:25.771722+0000', 'interactionCategory': 'N/A'}\n",
      "{'authorName': 'Femmin0V', 'authorId': 't2_95ongpkiy', 'commentCount': '1', 'commentsLink': '/r/Anxiety/comments/1h4vczy/tw_i_had_a_terrifying_experience_that_everyone/', 'createdAt': '1733147353000', 'postId': 'thing_t3_1h4vczy', 'postTitle': \"(TW) I had a terrifying experience that everyone else seems to think is a panic attack but I don't think so\", 'subredditName': 'r/Anxiety', 'collectedAt': '2024-12-02T16:06:25.771722+0000', 'interactionCategory': 'N/A'}\n",
      "{'authorName': 'Bailee-Zephyr', 'authorId': 't2_tuznarorw', 'commentCount': '0', 'commentsLink': '/r/Anxiety/comments/1h4vcra/is_there_something_unusual_that_tends_to_trigger/', 'createdAt': '1733147336000', 'postId': 'thing_t3_1h4vcra', 'postTitle': 'Is there something unusual that tends to trigger your anxiety?', 'subredditName': 'r/Anxiety', 'collectedAt': '2024-12-02T16:06:25.771722+0000', 'interactionCategory': 'N/A'}\n",
      "Aucun bouton 'Suivant' trouvé\n"
     ]
    },
    {
     "ename": "TypeError",
     "evalue": "'NoneType' object is not iterable",
     "output_type": "error",
     "traceback": [
      "\u001b[1;31m---------------------------------------------------------------------------\u001b[0m",
      "\u001b[1;31mTypeError\u001b[0m                                 Traceback (most recent call last)",
      "Cell \u001b[1;32mIn[15], line 1\u001b[0m\n\u001b[1;32m----> 1\u001b[0m \u001b[43mscrapCommunity\u001b[49m\u001b[43m(\u001b[49m\u001b[38;5;124;43m\"\u001b[39;49m\u001b[38;5;124;43mAnxiety\u001b[39;49m\u001b[38;5;124;43m\"\u001b[39;49m\u001b[43m)\u001b[49m\n",
      "Cell \u001b[1;32mIn[13], line 31\u001b[0m, in \u001b[0;36mscrapCommunity\u001b[1;34m(communityName)\u001b[0m\n\u001b[0;32m     28\u001b[0m \u001b[38;5;28;01mfor\u001b[39;00m topicUrl \u001b[38;5;129;01min\u001b[39;00m extendedUrls:\n\u001b[0;32m     29\u001b[0m     \u001b[38;5;66;03m# Appel de la fonction `collectSubRedditsPosts` pour chaque URL\u001b[39;00m\n\u001b[0;32m     30\u001b[0m     posts \u001b[38;5;241m=\u001b[39m collectSubRedditsPosts(topicUrl)\n\u001b[1;32m---> 31\u001b[0m     \u001b[43mcollectedPosts\u001b[49m\u001b[38;5;241;43m.\u001b[39;49m\u001b[43mextend\u001b[49m\u001b[43m(\u001b[49m\u001b[43mposts\u001b[49m\u001b[43m)\u001b[49m\n\u001b[0;32m     32\u001b[0m \u001b[38;5;28;01mreturn\u001b[39;00m collectedPosts\n",
      "\u001b[1;31mTypeError\u001b[0m: 'NoneType' object is not iterable"
     ]
    }
   ],
   "source": [
    "scrapCommunity(\"Anxiety\")"
   ]
  }
 ],
 "metadata": {
  "kernelspec": {
   "display_name": "Python 3",
   "language": "python",
   "name": "python3"
  },
  "language_info": {
   "codemirror_mode": {
    "name": "ipython",
    "version": 3
   },
   "file_extension": ".py",
   "mimetype": "text/x-python",
   "name": "python",
   "nbconvert_exporter": "python",
   "pygments_lexer": "ipython3",
   "version": "3.10.5"
  }
 },
 "nbformat": 4,
 "nbformat_minor": 2
}

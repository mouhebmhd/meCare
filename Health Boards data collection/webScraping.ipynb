version https://git-lfs.github.com/spec/v1
oid sha256:6c9aacc6075f1383d6509bc8bc72baaf5297c42b6404c9c482b6f262c0384a7a
size 43523

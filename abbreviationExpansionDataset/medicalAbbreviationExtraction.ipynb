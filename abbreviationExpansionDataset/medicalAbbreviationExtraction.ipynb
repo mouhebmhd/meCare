{
 "cells": [
  {
   "cell_type": "markdown",
   "metadata": {
    "vscode": {
     "languageId": "plaintext"
    }
   },
   "source": [
    "<div align=\"center\">\n",
    "\n",
    "### Plos Articles\n",
    "\n",
    "</div>\n"
   ]
  },
  {
   "cell_type": "code",
   "execution_count": 1,
   "metadata": {},
   "outputs": [],
   "source": [
    "import pandas as pd\n",
    "import re\n",
    "# Read the json file \n",
    "dataset = pd.read_json(\"../data/PLOS/PLOSArticles.json\")"
   ]
  },
  {
   "cell_type": "code",
   "execution_count": 38,
   "metadata": {},
   "outputs": [],
   "source": [
    "import re\n",
    "\n",
    "def extractAbbrev(element):\n",
    "    try:\n",
    "        # Regex pattern to find fully uppercase words in parentheses\n",
    "        pattern = r'\\(([A-Z]+)\\)'\n",
    "\n",
    "        # Find all matches with their start positions\n",
    "        matches = [(match.group(1), match.start()) for match in re.finditer(pattern, element)]\n",
    "        \n",
    "        # Function to remove HTML tags from a string\n",
    "        def remove_html_tags(text):\n",
    "            return re.sub(r'<[^>]*>', '', text)\n",
    "\n",
    "        # Extract words based on the new condition\n",
    "        result = []\n",
    "        for word, position in matches:\n",
    "            \n",
    "            # Find the preceding content up to the word's position\n",
    "            preceding_text = element[:position].split()\n",
    "            \n",
    "            # Extract words starting with the same letter as the abbreviation\n",
    "            extracted_words = []\n",
    "            for w in reversed(preceding_text):\n",
    "                extracted_words.insert(0,w)  # Insert at the beginning of the list\n",
    "                # Stop extracting if the word doesn't contain the first letter\n",
    "                if w[0].lower() not in word.lower():\n",
    "                    break\n",
    "\n",
    "            result.append((word, [remove_html_tags(item) for item in extracted_words]))  # Remove HTML tags\n",
    "\n",
    "    except Exception as e:\n",
    "        print(f\"Error: {e}\")\n",
    "        return []\n",
    "    \n",
    "    return result\n",
    "def preprocessData(resultsAnnotation):\n",
    "    for index in range(len(resultsAnnotation)):\n",
    "        try :\n",
    "            word = resultsAnnotation[index][0]\n",
    "            listOfWords = resultsAnnotation[index][1]\n",
    "            firstLetter = word[0]\n",
    "            # Ensure listOfWords has words starting with the same letter as the abbreviation\n",
    "            while listOfWords and listOfWords[0][0].lower() != firstLetter.lower():\n",
    "                resultsAnnotation[index][1].pop(0)\n",
    "        except:\n",
    "            continue\n",
    "    return resultsAnnotation"
   ]
  }
 ],
 "metadata": {
  "kernelspec": {
   "display_name": "Python 3",
   "language": "python",
   "name": "python3"
  },
  "language_info": {
   "codemirror_mode": {
    "name": "ipython",
    "version": 3
   },
   "file_extension": ".py",
   "mimetype": "text/x-python",
   "name": "python",
   "nbconvert_exporter": "python",
   "pygments_lexer": "ipython3",
   "version": "3.10.5"
  }
 },
 "nbformat": 4,
 "nbformat_minor": 2
}
